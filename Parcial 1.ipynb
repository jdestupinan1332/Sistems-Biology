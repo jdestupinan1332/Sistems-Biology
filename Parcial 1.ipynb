{
 "metadata": {
  "name": "Parcial 1"
 },
 "nbformat": 3,
 "nbformat_minor": 0,
 "worksheets": [
  {
   "cells": [
    {
     "cell_type": "code",
     "collapsed": false,
     "input": [
      "%pylab inline\n",
      "import matplotlib.pyplot as plt"
     ],
     "language": "python",
     "metadata": {},
     "outputs": [
      {
       "output_type": "stream",
       "stream": "stdout",
       "text": [
        "\n",
        "Welcome to pylab, a matplotlib-based Python environment [backend: module://IPython.zmq.pylab.backend_inline].\n",
        "For more information, type 'help(pylab)'.\n"
       ]
      }
     ],
     "prompt_number": 191
    },
    {
     "cell_type": "code",
     "collapsed": false,
     "input": [
      "v_x = 0.1\n",
      "v_y = 0.0\n",
      "k_x = 4.0\n",
      "k_y = 2.0\n",
      "gamma_x = 10.0"
     ],
     "language": "python",
     "metadata": {},
     "outputs": [],
     "prompt_number": 192
    },
    {
     "cell_type": "code",
     "collapsed": false,
     "input": [
      "y1 = linspace(0,10,50)\n",
      "x1 = v_x + k_x*(1/(1+y1))\n",
      "\n",
      "x2 = linspace(0,100,100)\n",
      "y2 = v_y + k_y*x2"
     ],
     "language": "python",
     "metadata": {},
     "outputs": [],
     "prompt_number": 193
    },
    {
     "cell_type": "code",
     "collapsed": false,
     "input": [
      "figsize(7,5)\n",
      "plot(x1,y1, label='x')\n",
      "plot(x2,y2, label='y')\n",
      "xlabel('x')\n",
      "ylabel('y')\n",
      "xlim([0,5])\n",
      "ylim([0,10])\n",
      "title('a')\n",
      "arrow(1.2, 1.2, 0.2, 0.2, head_width=0.15, head_length=0.1)\n",
      "arrow(2.5, 3.0, -0.2, 0.2, head_width=0.15, head_length=0.1)\n",
      "arrow(1.6, 4.0, -0.2, -0.2, head_width=0.15, head_length=0.1)\n",
      "arrow(0.5, 2.5, 0.2, -0.2, head_width=0.15, head_length=0.1)\n",
      "legend()\n",
      "savefig('2a.png')"
     ],
     "language": "python",
     "metadata": {},
     "outputs": [
      {
       "output_type": "display_data",
       "png": "[encoded data removed]"
      }
     ],
     "prompt_number": 199
    },
    {
     "cell_type": "code",
     "collapsed": false,
     "input": [
      "x1 = linspace(0.101,5,5000)\n",
      "y1 = k_x*x1**2/(x1**2 +1) * 1/(x1-v_x)\n"
     ],
     "language": "python",
     "metadata": {},
     "outputs": [],
     "prompt_number": 200
    },
    {
     "cell_type": "code",
     "collapsed": false,
     "input": [
      "plot(x1,y1, label='x')\n",
      "plot(x2,y2, label='y')\n",
      "xlabel('x')\n",
      "ylabel('y')\n",
      "xlim([0,5])\n",
      "ylim([0,10])\n",
      "title('b')\n",
      "\n",
      "arrow(1.2, 1.2, 0.2, 0.2, head_width=0.15, head_length=0.1)\n",
      "arrow(1.7, 2.3, -0.2, 0.2, head_width=0.15, head_length=0.1)\n",
      "arrow(1.0, 3.0, -0.2, -0.2, head_width=0.15, head_length=0.1)\n",
      "arrow(0.4, 1.7, 0.2, -0.2, head_width=0.15, head_length=0.1)\n",
      "legend()\n",
      "savefig('2b.png')\n",
      "\n"
     ],
     "language": "python",
     "metadata": {},
     "outputs": [
      {
       "output_type": "display_data",
       "png": "[encoded data removed]"
      }
     ],
     "prompt_number": 201
    },
    {
     "cell_type": "code",
     "collapsed": false,
     "input": [
      "xnum = 1.09926\n",
      "ynum = 2.16837"
     ],
     "language": "python",
     "metadata": {},
     "outputs": [],
     "prompt_number": 382
    },
    {
     "cell_type": "code",
     "collapsed": false,
     "input": [
      "2*xnum*k_x/((1+xnum**2)**2*(1+ynum)) - k_y*k_x*xnum**2/((1+xnum**2)*(1+ynum)**2) -1"
     ],
     "language": "python",
     "metadata": {},
     "outputs": [
      {
       "output_type": "pyout",
       "prompt_number": 383,
       "text": [
        "-0.8669326113204814"
       ]
      }
     ],
     "prompt_number": 383
    },
    {
     "cell_type": "code",
     "collapsed": false,
     "input": [
      "1/(2*xnum*k_x/((1+ynum)*(1+xnum**2)**2) - 1)"
     ],
     "language": "python",
     "metadata": {},
     "outputs": [
      {
       "output_type": "pyout",
       "prompt_number": 384,
       "text": [
        "-2.320874082878588"
       ]
      }
     ],
     "prompt_number": 384
    },
    {
     "cell_type": "code",
     "collapsed": false,
     "input": [
      "dt = 0.01\n",
      "tmax = 100\n",
      "listt = arange(0,tmax, dt)\n",
      "listx = zeros(len(listt))\n",
      "listy = zeros(len(listt))\n",
      "listxp = zeros(len(listt))\n",
      "listyp = zeros(len(listt))"
     ],
     "language": "python",
     "metadata": {},
     "outputs": [],
     "prompt_number": 385
    },
    {
     "cell_type": "code",
     "collapsed": false,
     "input": [
      "def funtx (gam, x, y):\n",
      "    velx = gam*(v_x + k_x*x**2/(1+x**2) * 1/(1+y) - 1)\n",
      "    return velx\n",
      "\n",
      "def funty (x, y):\n",
      "    vely = v_y+k_y*x - y\n",
      "    return vely"
     ],
     "language": "python",
     "metadata": {},
     "outputs": [],
     "prompt_number": 386
    },
    {
     "cell_type": "code",
     "collapsed": false,
     "input": [
      "x0 = 1.60\n",
      "y0 = 1.0\n",
      "gam = 2.5\n",
      "listx[0]=x0\n",
      "listy[0]=y0\n",
      "listxp[0]=funtx(gam, listx[0], listy[0])\n",
      "listyp[0]=funty(listx[0], listy[0])"
     ],
     "language": "python",
     "metadata": {},
     "outputs": [],
     "prompt_number": 387
    },
    {
     "cell_type": "code",
     "collapsed": false,
     "input": [
      "n = 0\n",
      "while n < len(listt)-1:\n",
      "    xtest = listx[n]\n",
      "    ytest = listy[n]\n",
      "    xptest = listxp[n]\n",
      "    yptest = listyp[n]\n",
      "    \n",
      "    K1 = xptest*dt\n",
      "    L1 = yptest*dt\n",
      "    \n",
      "    xtest= listx[n] + 0.5*K1\n",
      "    ytest = listy[n]+ 0.5*L1\n",
      "    xptest = funtx(gam, xtest, ytest)\n",
      "    yptest = funty(xtest, ytest)\n",
      "    \n",
      "    K2 = xptest*dt\n",
      "    L2 = yptest*dt\n",
      "    \n",
      "    xtest= listx[n] + 0.5*K2\n",
      "    ytest = listy[n]+ 0.5*L2\n",
      "    xptest = funtx(gam, xtest, ytest)\n",
      "    yptest = funty(xtest, ytest)\n",
      "    \n",
      "    K3 = xptest*dt\n",
      "    L3 = yptest*dt\n",
      "    \n",
      "    xtest= listx[n] + 0.5*K3\n",
      "    ytest = listy[n]+ 0.5*L3\n",
      "    xptest = funtx(gam, xtest, ytest)\n",
      "    yptest = funty(xtest, ytest)\n",
      "    \n",
      "    K4 = xptest*dt\n",
      "    L4 = yptest*dt\n",
      "    \n",
      "    K = (K4 + 2*K3 + 2*K2 + K1)/6.0\n",
      "    L = (L4 + 2*L3 + 2*L2 + L1)/6.0\n",
      "    \n",
      "    listx[n+1] = listx[n] + K\n",
      "    listy[n+1] = listy[n] + L\n",
      "    listxp[n+1] = funtx(gam, listx[n+1], listy[n+1])\n",
      "    listxp[n+1] = funty(listx[n+1], listy[n+1])\n",
      "    \n",
      "    n = n+1"
     ],
     "language": "python",
     "metadata": {},
     "outputs": [],
     "prompt_number": 388
    },
    {
     "cell_type": "code",
     "collapsed": false,
     "input": [
      "plot(x1,y1, label='x')\n",
      "plot(x2,y2, label='y')\n",
      "plot (listx, listy, label = 'gamma = 2.5')\n",
      "xlabel('x')\n",
      "ylabel('y')\n",
      "xlim([0,5])\n",
      "ylim([0,10])\n",
      "title('No estable')\n",
      "\n",
      "arrow(1.2, 1.2, 0.2, 0.2, head_width=0.15, head_length=0.1)\n",
      "arrow(1.7, 2.3, -0.2, 0.2, head_width=0.15, head_length=0.1)\n",
      "arrow(1.0, 3.0, -0.2, -0.2, head_width=0.15, head_length=0.1)\n",
      "arrow(0.4, 1.7, 0.2, -0.2, head_width=0.15, head_length=0.1)\n",
      "legend()\n",
      "savefig('gam1.png')\n"
     ],
     "language": "python",
     "metadata": {},
     "outputs": [
      {
       "output_type": "display_data",
       "png": "[encoded data removed]"
      }
     ],
     "prompt_number": 389
    },
    {
     "cell_type": "code",
     "collapsed": false,
     "input": [
      "dt = 0.01\n",
      "tmax = 100\n",
      "listt = arange(0,tmax, dt)\n",
      "listx = zeros(len(listt))\n",
      "listy = zeros(len(listt))\n",
      "listxp = zeros(len(listt))\n",
      "listyp = zeros(len(listt))\n",
      "\n",
      "\n",
      "x0 = 2.0\n",
      "y0 = 0.2\n",
      "gam = 1.7\n",
      "listx[0]=x0\n",
      "listy[0]=y0\n",
      "listxp[0]=funtx(gam, listx[0], listy[0])\n",
      "listyp[0]=funty(listx[0], listy[0])"
     ],
     "language": "python",
     "metadata": {},
     "outputs": [],
     "prompt_number": 393
    },
    {
     "cell_type": "code",
     "collapsed": false,
     "input": [
      "n = 0\n",
      "while n < len(listt)-1:\n",
      "    xtest = listx[n]\n",
      "    ytest = listy[n]\n",
      "    xptest = listxp[n]\n",
      "    yptest = listyp[n]\n",
      "    \n",
      "    K1 = xptest*dt\n",
      "    L1 = yptest*dt\n",
      "    \n",
      "    xtest= listx[n] + 0.5*K1\n",
      "    ytest = listy[n]+ 0.5*L1\n",
      "    xptest = funtx(gam, xtest, ytest)\n",
      "    yptest = funty(xtest, ytest)\n",
      "    \n",
      "    K2 = xptest*dt\n",
      "    L2 = yptest*dt\n",
      "    \n",
      "    xtest= listx[n] + 0.5*K2\n",
      "    ytest = listy[n]+ 0.5*L2\n",
      "    xptest = funtx(gam, xtest, ytest)\n",
      "    yptest = funty(xtest, ytest)\n",
      "    \n",
      "    K3 = xptest*dt\n",
      "    L3 = yptest*dt\n",
      "    \n",
      "    xtest= listx[n] + 0.5*K3\n",
      "    ytest = listy[n]+ 0.5*L3\n",
      "    xptest = funtx(gam, xtest, ytest)\n",
      "    yptest = funty(xtest, ytest)\n",
      "    \n",
      "    K4 = xptest*dt\n",
      "    L4 = yptest*dt\n",
      "    \n",
      "    K = (K4 + 2*K3 + 2*K2 + K1)/6.0\n",
      "    L = (L4 + 2*L3 + 2*L2 + L1)/6.0\n",
      "    \n",
      "    listx[n+1] = listx[n] + K\n",
      "    listy[n+1] = listy[n] + L\n",
      "    listxp[n+1] = funtx(gam, listx[n+1], listy[n+1])\n",
      "    listxp[n+1] = funty(listx[n+1], listy[n+1])\n",
      "    \n",
      "    n = n+1"
     ],
     "language": "python",
     "metadata": {},
     "outputs": [],
     "prompt_number": 394
    },
    {
     "cell_type": "code",
     "collapsed": false,
     "input": [
      "plot(x1,y1, label='x')\n",
      "plot(x2,y2, label='y')\n",
      "plot (listx, listy, label = 'gamma = 1.7')\n",
      "xlabel('x')\n",
      "ylabel('y')\n",
      "xlim([0,5])\n",
      "ylim([0,10])\n",
      "title('No estable')\n",
      "\n",
      "arrow(1.2, 1.2, 0.2, 0.2, head_width=0.15, head_length=0.1)\n",
      "arrow(1.7, 2.3, -0.2, 0.2, head_width=0.15, head_length=0.1)\n",
      "arrow(1.0, 3.0, -0.2, -0.2, head_width=0.15, head_length=0.1)\n",
      "arrow(0.4, 1.7, 0.2, -0.2, head_width=0.15, head_length=0.1)\n",
      "legend()\n",
      "savefig('gam2.png')"
     ],
     "language": "python",
     "metadata": {},
     "outputs": [
      {
       "output_type": "display_data",
       "png": "[encoded data removed]"
      }
     ],
     "prompt_number": 395
    },
    {
     "cell_type": "code",
     "collapsed": false,
     "input": [],
     "language": "python",
     "metadata": {},
     "outputs": []
    }
   ],
   "metadata": {}
  }
 ]
}